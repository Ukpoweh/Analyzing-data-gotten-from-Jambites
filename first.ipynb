{
  "cells": [
    {
      "cell_type": "markdown",
      "source": [
        "**Analyzing** **data** **gotten** **from** **certain** **Jambites**"
      ],
      "metadata": {
        "id": "yy0Ze8hrkFjA"
      }
    },
    {
      "cell_type": "markdown",
      "source": [
        "The dataset to be analyzed in this notebook was a product of a Google Form questionnaire produced by the Deeper Life Campus Fellowship FUTA chapter academic group for the Jambites who were aspiring to gain admission into FUTA. This was to prepare them for their forthcoming post utme. The goal of this analysis is to determine the factors that affect a student's jamb score.\n"
      ],
      "metadata": {
        "id": "9lyGqhBondar"
      }
    },
    {
      "cell_type": "code",
      "execution_count": 25,
      "metadata": {
        "id": "uf--NwOuidIX"
      },
      "outputs": [],
      "source": [
        "#import all necessary modules\n",
        "import numpy as np\n",
        "import pandas as pd\n",
        "import matplotlib.pyplot as plt\n",
        "import seaborn as sns"
      ]
    },
    {
      "cell_type": "markdown",
      "source": [
        "The first step is to import all necessary modules, as we've seen from above. Then, load the dataset as a dataframe and view the all important information in the data."
      ],
      "metadata": {
        "id": "JMCKUpcrpMPA"
      }
    },
    {
      "cell_type": "code",
      "execution_count": 26,
      "metadata": {
        "colab": {
          "base_uri": "https://localhost:8080/",
          "height": 1000
        },
        "id": "NvNJoFHqjVr1",
        "outputId": "f5f29a25-5ba4-45c9-ba13-ae475859aada"
      },
      "outputs": [
        {
          "output_type": "display_data",
          "data": {
            "text/plain": [
              "             Timestamp                   Email Address  First Name  \\\n",
              "0  10/10/2020 22:26:42      akinwamideelijah@gmail.com      Elijah   \n",
              "1   10/11/2020 8:59:25  ajayisegunsamuel2002@gmail.com    Olusegun   \n",
              "2  10/11/2020 10:25:57       akintundeakinba@gmail.com  Akinbamowo   \n",
              "3  10/11/2020 15:09:46    johnsonchidinma304@gmail.com     Johnson   \n",
              "4  10/11/2020 16:31:26         arewaolawale2@gmail.com       Arewa   \n",
              "\n",
              "    Other Names State of Residence     Sex  \\\n",
              "0    Akinwamide               Ogun    Male   \n",
              "1        Samuel              Lagos    Male   \n",
              "2     Akintunde               Ondo    Male   \n",
              "3  Chidinma joy              Lagos  Female   \n",
              "4       Olawale               Ondo    Male   \n",
              "\n",
              "   Mobile Number (Preferably WhatsApp)              Denomination  \\\n",
              "0                           9093934248  Deeper Life Bible Church   \n",
              "1                           8026132149  Deeper Life Bible Church   \n",
              "2                           7041722776  Deeper Life Bible Church   \n",
              "3                           8068317222  Deeper Life Bible Church   \n",
              "4                           8086830091  Deeper Life Bible Church   \n",
              "\n",
              "                          School/Faculty Applied For  \\\n",
              "0          School of Environmental  Technology (SET)   \n",
              "1  School of Engineering and Engineering Technolo...   \n",
              "2  School of Engineering and Engineering Technolo...   \n",
              "3                           School of Sciences (SOS)   \n",
              "4                          School of Computing (SOC)   \n",
              "\n",
              "        Course/Department Applied For  Jamb Score  \\\n",
              "0                        Architecture         263   \n",
              "1  Electrical electronics engineering         229   \n",
              "2                Software engineering         187   \n",
              "3                         Mathematics         225   \n",
              "4                    Computer Science         273   \n",
              "\n",
              "                   Jamb Subject Combination  \\\n",
              "0  English, Mathematics, Physics, Geography   \n",
              "1  English, Mathematics, Chemistry, Physics   \n",
              "2  English, Mathematics, Chemistry, Physics   \n",
              "3  English, Mathematics, Chemistry, Physics   \n",
              "4  English, Mathematics, Chemistry, Physics   \n",
              "\n",
              "  Did you register for the upcoming NECO exams scheduled to start October?  \\\n",
              "0                                                Yes                         \n",
              "1                                                 No                         \n",
              "2                                                 No                         \n",
              "3                                                 No                         \n",
              "4                                                 No                         \n",
              "\n",
              "  Have you completed the online registration for the Post Utme Exam?  \\\n",
              "0                                                Yes                   \n",
              "1                                                Yes                   \n",
              "2                                                Yes                   \n",
              "3                                        In Progress                   \n",
              "4                                        In Progress                   \n",
              "\n",
              "  What challenge(s) are/were you faced with during the cause of application and registration?  \\\n",
              "0                             No challenge free flow                                            \n",
              "1  Discouragement concerning my course and depres...                                            \n",
              "2                                       No challenge                                            \n",
              "3  I registered using my phone but i am finding i...                                            \n",
              "4                               Financial challenges                                            \n",
              "\n",
              "                               How can we help you?  \\\n",
              "0                         Just gaining of admission   \n",
              "1         Academically, spiritually and financially   \n",
              "2                                          Tutoring   \n",
              "3  If I can be link to where I can pay for the form   \n",
              "4                                            Prayer   \n",
              "\n",
              "  What are your expectations from DLCF FUTA as regards your preparations for the Post Utme Test?  \n",
              "0                                           Tutoring                                              \n",
              "1  Updates on vital informations and a place to s...                                              \n",
              "2        Helping me with reading and teaching sir/ma                                              \n",
              "3  I expect the DLCF FUTA to send past questions ...                                              \n",
              "4                                          Companion                                              "
            ],
            "text/html": [
              "\n",
              "  <div id=\"df-702ad473-6a8c-4e91-9d74-ed03e5162b9f\">\n",
              "    <div class=\"colab-df-container\">\n",
              "      <div>\n",
              "<style scoped>\n",
              "    .dataframe tbody tr th:only-of-type {\n",
              "        vertical-align: middle;\n",
              "    }\n",
              "\n",
              "    .dataframe tbody tr th {\n",
              "        vertical-align: top;\n",
              "    }\n",
              "\n",
              "    .dataframe thead th {\n",
              "        text-align: right;\n",
              "    }\n",
              "</style>\n",
              "<table border=\"1\" class=\"dataframe\">\n",
              "  <thead>\n",
              "    <tr style=\"text-align: right;\">\n",
              "      <th></th>\n",
              "      <th>Timestamp</th>\n",
              "      <th>Email Address</th>\n",
              "      <th>First Name</th>\n",
              "      <th>Other Names</th>\n",
              "      <th>State of Residence</th>\n",
              "      <th>Sex</th>\n",
              "      <th>Mobile Number (Preferably WhatsApp)</th>\n",
              "      <th>Denomination</th>\n",
              "      <th>School/Faculty Applied For</th>\n",
              "      <th>Course/Department Applied For</th>\n",
              "      <th>Jamb Score</th>\n",
              "      <th>Jamb Subject Combination</th>\n",
              "      <th>Did you register for the upcoming NECO exams scheduled to start October?</th>\n",
              "      <th>Have you completed the online registration for the Post Utme Exam?</th>\n",
              "      <th>What challenge(s) are/were you faced with during the cause of application and registration?</th>\n",
              "      <th>How can we help you?</th>\n",
              "      <th>What are your expectations from DLCF FUTA as regards your preparations for the Post Utme Test?</th>\n",
              "    </tr>\n",
              "  </thead>\n",
              "  <tbody>\n",
              "    <tr>\n",
              "      <th>0</th>\n",
              "      <td>10/10/2020 22:26:42</td>\n",
              "      <td>akinwamideelijah@gmail.com</td>\n",
              "      <td>Elijah</td>\n",
              "      <td>Akinwamide</td>\n",
              "      <td>Ogun</td>\n",
              "      <td>Male</td>\n",
              "      <td>9093934248</td>\n",
              "      <td>Deeper Life Bible Church</td>\n",
              "      <td>School of Environmental  Technology (SET)</td>\n",
              "      <td>Architecture</td>\n",
              "      <td>263</td>\n",
              "      <td>English, Mathematics, Physics, Geography</td>\n",
              "      <td>Yes</td>\n",
              "      <td>Yes</td>\n",
              "      <td>No challenge free flow</td>\n",
              "      <td>Just gaining of admission</td>\n",
              "      <td>Tutoring</td>\n",
              "    </tr>\n",
              "    <tr>\n",
              "      <th>1</th>\n",
              "      <td>10/11/2020 8:59:25</td>\n",
              "      <td>ajayisegunsamuel2002@gmail.com</td>\n",
              "      <td>Olusegun</td>\n",
              "      <td>Samuel</td>\n",
              "      <td>Lagos</td>\n",
              "      <td>Male</td>\n",
              "      <td>8026132149</td>\n",
              "      <td>Deeper Life Bible Church</td>\n",
              "      <td>School of Engineering and Engineering Technolo...</td>\n",
              "      <td>Electrical electronics engineering</td>\n",
              "      <td>229</td>\n",
              "      <td>English, Mathematics, Chemistry, Physics</td>\n",
              "      <td>No</td>\n",
              "      <td>Yes</td>\n",
              "      <td>Discouragement concerning my course and depres...</td>\n",
              "      <td>Academically, spiritually and financially</td>\n",
              "      <td>Updates on vital informations and a place to s...</td>\n",
              "    </tr>\n",
              "    <tr>\n",
              "      <th>2</th>\n",
              "      <td>10/11/2020 10:25:57</td>\n",
              "      <td>akintundeakinba@gmail.com</td>\n",
              "      <td>Akinbamowo</td>\n",
              "      <td>Akintunde</td>\n",
              "      <td>Ondo</td>\n",
              "      <td>Male</td>\n",
              "      <td>7041722776</td>\n",
              "      <td>Deeper Life Bible Church</td>\n",
              "      <td>School of Engineering and Engineering Technolo...</td>\n",
              "      <td>Software engineering</td>\n",
              "      <td>187</td>\n",
              "      <td>English, Mathematics, Chemistry, Physics</td>\n",
              "      <td>No</td>\n",
              "      <td>Yes</td>\n",
              "      <td>No challenge</td>\n",
              "      <td>Tutoring</td>\n",
              "      <td>Helping me with reading and teaching sir/ma</td>\n",
              "    </tr>\n",
              "    <tr>\n",
              "      <th>3</th>\n",
              "      <td>10/11/2020 15:09:46</td>\n",
              "      <td>johnsonchidinma304@gmail.com</td>\n",
              "      <td>Johnson</td>\n",
              "      <td>Chidinma joy</td>\n",
              "      <td>Lagos</td>\n",
              "      <td>Female</td>\n",
              "      <td>8068317222</td>\n",
              "      <td>Deeper Life Bible Church</td>\n",
              "      <td>School of Sciences (SOS)</td>\n",
              "      <td>Mathematics</td>\n",
              "      <td>225</td>\n",
              "      <td>English, Mathematics, Chemistry, Physics</td>\n",
              "      <td>No</td>\n",
              "      <td>In Progress</td>\n",
              "      <td>I registered using my phone but i am finding i...</td>\n",
              "      <td>If I can be link to where I can pay for the form</td>\n",
              "      <td>I expect the DLCF FUTA to send past questions ...</td>\n",
              "    </tr>\n",
              "    <tr>\n",
              "      <th>4</th>\n",
              "      <td>10/11/2020 16:31:26</td>\n",
              "      <td>arewaolawale2@gmail.com</td>\n",
              "      <td>Arewa</td>\n",
              "      <td>Olawale</td>\n",
              "      <td>Ondo</td>\n",
              "      <td>Male</td>\n",
              "      <td>8086830091</td>\n",
              "      <td>Deeper Life Bible Church</td>\n",
              "      <td>School of Computing (SOC)</td>\n",
              "      <td>Computer Science</td>\n",
              "      <td>273</td>\n",
              "      <td>English, Mathematics, Chemistry, Physics</td>\n",
              "      <td>No</td>\n",
              "      <td>In Progress</td>\n",
              "      <td>Financial challenges</td>\n",
              "      <td>Prayer</td>\n",
              "      <td>Companion</td>\n",
              "    </tr>\n",
              "  </tbody>\n",
              "</table>\n",
              "</div>\n",
              "      <button class=\"colab-df-convert\" onclick=\"convertToInteractive('df-702ad473-6a8c-4e91-9d74-ed03e5162b9f')\"\n",
              "              title=\"Convert this dataframe to an interactive table.\"\n",
              "              style=\"display:none;\">\n",
              "        \n",
              "  <svg xmlns=\"http://www.w3.org/2000/svg\" height=\"24px\"viewBox=\"0 0 24 24\"\n",
              "       width=\"24px\">\n",
              "    <path d=\"M0 0h24v24H0V0z\" fill=\"none\"/>\n",
              "    <path d=\"M18.56 5.44l.94 2.06.94-2.06 2.06-.94-2.06-.94-.94-2.06-.94 2.06-2.06.94zm-11 1L8.5 8.5l.94-2.06 2.06-.94-2.06-.94L8.5 2.5l-.94 2.06-2.06.94zm10 10l.94 2.06.94-2.06 2.06-.94-2.06-.94-.94-2.06-.94 2.06-2.06.94z\"/><path d=\"M17.41 7.96l-1.37-1.37c-.4-.4-.92-.59-1.43-.59-.52 0-1.04.2-1.43.59L10.3 9.45l-7.72 7.72c-.78.78-.78 2.05 0 2.83L4 21.41c.39.39.9.59 1.41.59.51 0 1.02-.2 1.41-.59l7.78-7.78 2.81-2.81c.8-.78.8-2.07 0-2.86zM5.41 20L4 18.59l7.72-7.72 1.47 1.35L5.41 20z\"/>\n",
              "  </svg>\n",
              "      </button>\n",
              "      \n",
              "  <style>\n",
              "    .colab-df-container {\n",
              "      display:flex;\n",
              "      flex-wrap:wrap;\n",
              "      gap: 12px;\n",
              "    }\n",
              "\n",
              "    .colab-df-convert {\n",
              "      background-color: #E8F0FE;\n",
              "      border: none;\n",
              "      border-radius: 50%;\n",
              "      cursor: pointer;\n",
              "      display: none;\n",
              "      fill: #1967D2;\n",
              "      height: 32px;\n",
              "      padding: 0 0 0 0;\n",
              "      width: 32px;\n",
              "    }\n",
              "\n",
              "    .colab-df-convert:hover {\n",
              "      background-color: #E2EBFA;\n",
              "      box-shadow: 0px 1px 2px rgba(60, 64, 67, 0.3), 0px 1px 3px 1px rgba(60, 64, 67, 0.15);\n",
              "      fill: #174EA6;\n",
              "    }\n",
              "\n",
              "    [theme=dark] .colab-df-convert {\n",
              "      background-color: #3B4455;\n",
              "      fill: #D2E3FC;\n",
              "    }\n",
              "\n",
              "    [theme=dark] .colab-df-convert:hover {\n",
              "      background-color: #434B5C;\n",
              "      box-shadow: 0px 1px 3px 1px rgba(0, 0, 0, 0.15);\n",
              "      filter: drop-shadow(0px 1px 2px rgba(0, 0, 0, 0.3));\n",
              "      fill: #FFFFFF;\n",
              "    }\n",
              "  </style>\n",
              "\n",
              "      <script>\n",
              "        const buttonEl =\n",
              "          document.querySelector('#df-702ad473-6a8c-4e91-9d74-ed03e5162b9f button.colab-df-convert');\n",
              "        buttonEl.style.display =\n",
              "          google.colab.kernel.accessAllowed ? 'block' : 'none';\n",
              "\n",
              "        async function convertToInteractive(key) {\n",
              "          const element = document.querySelector('#df-702ad473-6a8c-4e91-9d74-ed03e5162b9f');\n",
              "          const dataTable =\n",
              "            await google.colab.kernel.invokeFunction('convertToInteractive',\n",
              "                                                     [key], {});\n",
              "          if (!dataTable) return;\n",
              "\n",
              "          const docLinkHtml = 'Like what you see? Visit the ' +\n",
              "            '<a target=\"_blank\" href=https://colab.research.google.com/notebooks/data_table.ipynb>data table notebook</a>'\n",
              "            + ' to learn more about interactive tables.';\n",
              "          element.innerHTML = '';\n",
              "          dataTable['output_type'] = 'display_data';\n",
              "          await google.colab.output.renderOutput(dataTable, element);\n",
              "          const docLink = document.createElement('div');\n",
              "          docLink.innerHTML = docLinkHtml;\n",
              "          element.appendChild(docLink);\n",
              "        }\n",
              "      </script>\n",
              "    </div>\n",
              "  </div>\n",
              "  "
            ]
          },
          "metadata": {}
        },
        {
          "output_type": "stream",
          "name": "stdout",
          "text": [
            "<class 'pandas.core.frame.DataFrame'>\n",
            "RangeIndex: 71 entries, 0 to 70\n",
            "Data columns (total 17 columns):\n",
            " #   Column                                                                                          Non-Null Count  Dtype \n",
            "---  ------                                                                                          --------------  ----- \n",
            " 0   Timestamp                                                                                       71 non-null     object\n",
            " 1   Email Address                                                                                   71 non-null     object\n",
            " 2   First Name                                                                                      71 non-null     object\n",
            " 3   Other Names                                                                                     71 non-null     object\n",
            " 4   State of Residence                                                                              71 non-null     object\n",
            " 5   Sex                                                                                             71 non-null     object\n",
            " 6   Mobile Number (Preferably WhatsApp)                                                             71 non-null     int64 \n",
            " 7   Denomination                                                                                    71 non-null     object\n",
            " 8   School/Faculty Applied For                                                                      71 non-null     object\n",
            " 9   Course/Department Applied For                                                                   71 non-null     object\n",
            " 10  Jamb Score                                                                                      71 non-null     int64 \n",
            " 11  Jamb Subject Combination                                                                        71 non-null     object\n",
            " 12  Did you register for the upcoming NECO exams scheduled to start October?                        71 non-null     object\n",
            " 13  Have you completed the online registration for the Post Utme Exam?                              71 non-null     object\n",
            " 14  What challenge(s) are/were you faced with during the cause of application and registration?     71 non-null     object\n",
            " 15  How can we help you?                                                                            71 non-null     object\n",
            " 16  What are your expectations from DLCF FUTA as regards your preparations for the Post Utme Test?  71 non-null     object\n",
            "dtypes: int64(2), object(15)\n",
            "memory usage: 9.6+ KB\n"
          ]
        }
      ],
      "source": [
        "#load the dataset\n",
        "df = pd.read_csv(\"/content/DLCF FUTA Aspirants Bio-Data & Advisory Form (Responses) - Form Responses 1 (1).csv\")\n",
        "display(df.head())\n",
        "df.info()"
      ]
    },
    {
      "cell_type": "markdown",
      "source": [
        "Before analyzing, it is important to check if there are null values in the data."
      ],
      "metadata": {
        "id": "g1d6cgAeqIqo"
      }
    },
    {
      "cell_type": "code",
      "execution_count": 27,
      "metadata": {
        "colab": {
          "base_uri": "https://localhost:8080/"
        },
        "id": "wGhePsO8jtG6",
        "outputId": "728649f3-f155-4153-9f37-0289a986b7ac"
      },
      "outputs": [
        {
          "output_type": "execute_result",
          "data": {
            "text/plain": [
              "Timestamp                                                                                         0\n",
              "Email Address                                                                                     0\n",
              "First Name                                                                                        0\n",
              "Other Names                                                                                       0\n",
              "State of Residence                                                                                0\n",
              "Sex                                                                                               0\n",
              "Mobile Number (Preferably WhatsApp)                                                               0\n",
              "Denomination                                                                                      0\n",
              "School/Faculty Applied For                                                                        0\n",
              "Course/Department Applied For                                                                     0\n",
              "Jamb Score                                                                                        0\n",
              "Jamb Subject Combination                                                                          0\n",
              "Did you register for the upcoming NECO exams scheduled to start October?                          0\n",
              "Have you completed the online registration for the Post Utme Exam?                                0\n",
              "What challenge(s) are/were you faced with during the cause of application and registration?       0\n",
              "How can we help you?                                                                              0\n",
              "What are your expectations from DLCF FUTA as regards your preparations for the Post Utme Test?    0\n",
              "dtype: int64"
            ]
          },
          "metadata": {},
          "execution_count": 27
        }
      ],
      "source": [
        "#check for any null values\n",
        "df.isna().sum()"
      ]
    },
    {
      "cell_type": "markdown",
      "source": [
        "As seen from above, all the columns are void of null values. Now, the timestamp column has to be converted to a datetime column so that the year, month , day and time can be extracted."
      ],
      "metadata": {
        "id": "SAiXSjgjqbPh"
      }
    },
    {
      "cell_type": "code",
      "execution_count": 28,
      "metadata": {
        "colab": {
          "base_uri": "https://localhost:8080/",
          "height": 277
        },
        "id": "rlkWje5ekiJR",
        "outputId": "21fea7a5-6f18-47d5-b3fe-0e62f7c5c9db"
      },
      "outputs": [
        {
          "output_type": "display_data",
          "data": {
            "text/plain": [
              "2020    57\n",
              "2021    14\n",
              "Name: Year, dtype: int64"
            ]
          },
          "metadata": {}
        },
        {
          "output_type": "display_data",
          "data": {
            "text/plain": [
              "October     31\n",
              "November    26\n",
              "January     14\n",
              "Name: Month, dtype: int64"
            ]
          },
          "metadata": {}
        },
        {
          "output_type": "display_data",
          "data": {
            "text/plain": [
              "Friday       20\n",
              "Sunday       15\n",
              "Wednesday    13\n",
              "Monday       10\n",
              "Saturday      7\n",
              "Thursday      4\n",
              "Tuesday       2\n",
              "Name: Day, dtype: int64"
            ]
          },
          "metadata": {}
        }
      ],
      "source": [
        "#convert the timestamp column to a datetime\n",
        "df[\"Timestamp\"] = pd.to_datetime(df[\"Timestamp\"])\n",
        "df[\"Year\"] = df[\"Timestamp\"].dt.year #create a column for the year\n",
        "df[\"Month\"] = df[\"Timestamp\"].dt.strftime('%B') #create a column for the month\n",
        "df[\"Day\"] = df['Timestamp'].dt.strftime('%A') #create a column for the day\n",
        "df[\"Time\"] = df['Timestamp'].dt.strftime('%H-%M-%S') #create a column for the time\n",
        "display(df['Year'].value_counts())\n",
        "display(df['Month'].value_counts())\n",
        "display(df['Day'].value_counts())\n",
        "\n"
      ]
    },
    {
      "cell_type": "markdown",
      "source": [
        "As seen from the above extraction, the data was collected around the last quarter of 2020 to early 2021. \n",
        "Now, the data has to be cleaned thoroughly before it can be analyzed, since it is a real-world data."
      ],
      "metadata": {
        "id": "pG8x9v5ArGyM"
      }
    },
    {
      "cell_type": "markdown",
      "source": [
        "**Data** **cleaning**"
      ],
      "metadata": {
        "id": "wdR65-WFlBBU"
      }
    },
    {
      "cell_type": "code",
      "execution_count": 29,
      "metadata": {
        "colab": {
          "base_uri": "https://localhost:8080/",
          "height": 798
        },
        "id": "m3kGSQEB8lMh",
        "outputId": "20375410-32c6-409b-8203-38704b75125e"
      },
      "outputs": [
        {
          "output_type": "display_data",
          "data": {
            "text/plain": [
              "Lagos                                   15\n",
              "Ondo state                              10\n",
              "Ondo                                     6\n",
              "Oyo state                                3\n",
              "Oyo                                      3\n",
              "Ekiti                                    3\n",
              "Osun state                               2\n",
              "Osun                                     2\n",
              "Lagos                                    2\n",
              "Ogun                                     2\n",
              "Lagos state                              2\n",
              "Ekiti state                              1\n",
              "Tipper Garage mowe-ofada, ogun state     1\n",
              "Ilesha                                   1\n",
              "Oke aro akure                            1\n",
              "Benin Republic                           1\n",
              "Ondostate                                1\n",
              "Rivers State                             1\n",
              "Ekiti State                              1\n",
              "Ondo state Akure                         1\n",
              "Ogun state                               1\n",
              "Abuja                                    1\n",
              "Ogum                                     1\n",
              "Kogi                                     1\n",
              "Kwara                                    1\n",
              "Oyo state                                1\n",
              "Ifo ogun state                           1\n",
              "LAGOS STATE                              1\n",
              "ONDO STATE                               1\n",
              "OGUN                                     1\n",
              "Kwara state                              1\n",
              "Kogi                                     1\n",
              "Name: State of Residence, dtype: int64"
            ]
          },
          "metadata": {}
        },
        {
          "output_type": "execute_result",
          "data": {
            "text/plain": [
              "Lagos             20\n",
              "Ondo              20\n",
              "Ogun               7\n",
              "Oyo                7\n",
              "Osun               5\n",
              "Ekiti              5\n",
              "Kwara              2\n",
              "Kogi               2\n",
              "Abuja              1\n",
              "Benin republic     1\n",
              "Rivers             1\n",
              "Name: State of Residence, dtype: int64"
            ]
          },
          "metadata": {},
          "execution_count": 29
        }
      ],
      "source": [
        "#clean the state of residence column\n",
        "display(df['State of Residence'].value_counts())#before cleaning\n",
        "df['State of Residence'] = df['State of Residence'].str.capitalize()\n",
        "df['State of Residence'] = df['State of Residence'].str.strip(' ')\n",
        "df['State of Residence'] = df['State of Residence'].replace({'Ondo state':'Ondo', 'Oyo state':'Oyo', 'Lagos state':'Lagos', 'Osun state':'Osun', 'Ogun state':'Ogun', 'Ekiti state':'Ekiti', 'Kwara state':'Kwara', 'Ilesha':'Osun', 'Ogum':'Ogun', 'Rivers state':'Rivers', 'Ifo ogun state':'Ogun', 'Ondostate':'Ondo', 'Ondo state akure':'Ondo', 'Oke aro akure':'Ondo','Tipper garage mowe-ofada, ogun state':'Ogun'})\n",
        "df['State of Residence'].value_counts()#after cleaning\n",
        "\n",
        "\n"
      ]
    },
    {
      "cell_type": "markdown",
      "source": [
        "Now that the state of residence column is now clean, we can visualize the most frequent state."
      ],
      "metadata": {
        "id": "Y1sllHv-r1kG"
      }
    },
    {
      "cell_type": "code",
      "source": [
        "sns.set_style('darkgrid')\n",
        "sns.countplot('State of Residence', data=df)\n",
        "plt.xticks(rotation=90)\n",
        "plt.show()"
      ],
      "metadata": {
        "colab": {
          "base_uri": "https://localhost:8080/",
          "height": 396
        },
        "id": "JmMnY8mgsDxF",
        "outputId": "16cec4a0-7251-47a2-c2c5-59c820dd9652"
      },
      "execution_count": 30,
      "outputs": [
        {
          "output_type": "stream",
          "name": "stderr",
          "text": [
            "/usr/local/lib/python3.7/dist-packages/seaborn/_decorators.py:43: FutureWarning: Pass the following variable as a keyword arg: x. From version 0.12, the only valid positional argument will be `data`, and passing other arguments without an explicit keyword will result in an error or misinterpretation.\n",
            "  FutureWarning\n"
          ]
        },
        {
          "output_type": "display_data",
          "data": {
            "text/plain": [
              "<Figure size 432x288 with 1 Axes>"
            ],
            "image/png": "[encoded data removed]"
          },
          "metadata": {}
        }
      ]
    },
    {
      "cell_type": "markdown",
      "source": [
        "From the count plot above, it is observed the both Lagos and Ondo are the most frequent states.\n",
        "Now, for the mobile number column, +234 needs to be added in order to make the phone numbers more accessible"
      ],
      "metadata": {
        "id": "3A-BuIwqs8VG"
      }
    },
    {
      "cell_type": "code",
      "source": [
        "df['Mobile Number (Preferably WhatsApp)'] = df['Mobile Number (Preferably WhatsApp)'].astype(str)\n",
        "df['Mobile Number (Preferably WhatsApp)'] = '+234' + df['Mobile Number (Preferably WhatsApp)']\n"
      ],
      "metadata": {
        "id": "3zl4xYgw23_Z"
      },
      "execution_count": 31,
      "outputs": []
    },
    {
      "cell_type": "code",
      "source": [
        "#confirm that all phone numbers are valid\n",
        "y = df[df['Mobile Number (Preferably WhatsApp)'].str.len() < 14]\n",
        "y"
      ],
      "metadata": {
        "colab": {
          "base_uri": "https://localhost:8080/",
          "height": 400
        },
        "id": "JMpUNoP0lKil",
        "outputId": "55785c8d-3266-45aa-bdd4-82c4e3635ca1"
      },
      "execution_count": 32,
      "outputs": [
        {
          "output_type": "execute_result",
          "data": {
            "text/plain": [
              "             Timestamp            Email Address First Name     Other Names  \\\n",
              "55 2020-11-05 12:07:01  nkamapaulinus@gmail.com   Paulinus  Nkama Chikwere   \n",
              "\n",
              "   State of Residence   Sex Mobile Number (Preferably WhatsApp)  \\\n",
              "55     Benin republic  Male                        +23490137006   \n",
              "\n",
              "                Denomination  \\\n",
              "55  Deeper Life Bible Church   \n",
              "\n",
              "                           School/Faculty Applied For  \\\n",
              "55  School of Engineering and Engineering Technolo...   \n",
              "\n",
              "   Course/Department Applied For  ...  \\\n",
              "55             Civil engineering  ...   \n",
              "\n",
              "                    Jamb Subject Combination  \\\n",
              "55  English, Mathematics, Chemistry, Physics   \n",
              "\n",
              "   Did you register for the upcoming NECO exams scheduled to start October?  \\\n",
              "55                                                 No                         \n",
              "\n",
              "   Have you completed the online registration for the Post Utme Exam?  \\\n",
              "55                                                Yes                   \n",
              "\n",
              "   What challenge(s) are/were you faced with during the cause of application and registration?  \\\n",
              "55  No challenges but after the registration I was...                                            \n",
              "\n",
              "                    How can we help you?  \\\n",
              "55  I want help to retrieve the RRR code   \n",
              "\n",
              "   What are your expectations from DLCF FUTA as regards your preparations for the Post Utme Test?  \\\n",
              "55                  Prayers and good counsel and care                                               \n",
              "\n",
              "    Year     Month       Day      Time  \n",
              "55  2020  November  Thursday  12-07-01  \n",
              "\n",
              "[1 rows x 21 columns]"
            ],
            "text/html": [
              "\n",
              "  <div id=\"df-52112143-8a8b-43e6-b04d-90017e33f6c6\">\n",
              "    <div class=\"colab-df-container\">\n",
              "      <div>\n",
              "<style scoped>\n",
              "    .dataframe tbody tr th:only-of-type {\n",
              "        vertical-align: middle;\n",
              "    }\n",
              "\n",
              "    .dataframe tbody tr th {\n",
              "        vertical-align: top;\n",
              "    }\n",
              "\n",
              "    .dataframe thead th {\n",
              "        text-align: right;\n",
              "    }\n",
              "</style>\n",
              "<table border=\"1\" class=\"dataframe\">\n",
              "  <thead>\n",
              "    <tr style=\"text-align: right;\">\n",
              "      <th></th>\n",
              "      <th>Timestamp</th>\n",
              "      <th>Email Address</th>\n",
              "      <th>First Name</th>\n",
              "      <th>Other Names</th>\n",
              "      <th>State of Residence</th>\n",
              "      <th>Sex</th>\n",
              "      <th>Mobile Number (Preferably WhatsApp)</th>\n",
              "      <th>Denomination</th>\n",
              "      <th>School/Faculty Applied For</th>\n",
              "      <th>Course/Department Applied For</th>\n",
              "      <th>...</th>\n",
              "      <th>Jamb Subject Combination</th>\n",
              "      <th>Did you register for the upcoming NECO exams scheduled to start October?</th>\n",
              "      <th>Have you completed the online registration for the Post Utme Exam?</th>\n",
              "      <th>What challenge(s) are/were you faced with during the cause of application and registration?</th>\n",
              "      <th>How can we help you?</th>\n",
              "      <th>What are your expectations from DLCF FUTA as regards your preparations for the Post Utme Test?</th>\n",
              "      <th>Year</th>\n",
              "      <th>Month</th>\n",
              "      <th>Day</th>\n",
              "      <th>Time</th>\n",
              "    </tr>\n",
              "  </thead>\n",
              "  <tbody>\n",
              "    <tr>\n",
              "      <th>55</th>\n",
              "      <td>2020-11-05 12:07:01</td>\n",
              "      <td>nkamapaulinus@gmail.com</td>\n",
              "      <td>Paulinus</td>\n",
              "      <td>Nkama Chikwere</td>\n",
              "      <td>Benin republic</td>\n",
              "      <td>Male</td>\n",
              "      <td>+23490137006</td>\n",
              "      <td>Deeper Life Bible Church</td>\n",
              "      <td>School of Engineering and Engineering Technolo...</td>\n",
              "      <td>Civil engineering</td>\n",
              "      <td>...</td>\n",
              "      <td>English, Mathematics, Chemistry, Physics</td>\n",
              "      <td>No</td>\n",
              "      <td>Yes</td>\n",
              "      <td>No challenges but after the registration I was...</td>\n",
              "      <td>I want help to retrieve the RRR code</td>\n",
              "      <td>Prayers and good counsel and care</td>\n",
              "      <td>2020</td>\n",
              "      <td>November</td>\n",
              "      <td>Thursday</td>\n",
              "      <td>12-07-01</td>\n",
              "    </tr>\n",
              "  </tbody>\n",
              "</table>\n",
              "<p>1 rows × 21 columns</p>\n",
              "</div>\n",
              "      <button class=\"colab-df-convert\" onclick=\"convertToInteractive('df-52112143-8a8b-43e6-b04d-90017e33f6c6')\"\n",
              "              title=\"Convert this dataframe to an interactive table.\"\n",
              "              style=\"display:none;\">\n",
              "        \n",
              "  <svg xmlns=\"http://www.w3.org/2000/svg\" height=\"24px\"viewBox=\"0 0 24 24\"\n",
              "       width=\"24px\">\n",
              "    <path d=\"M0 0h24v24H0V0z\" fill=\"none\"/>\n",
              "    <path d=\"M18.56 5.44l.94 2.06.94-2.06 2.06-.94-2.06-.94-.94-2.06-.94 2.06-2.06.94zm-11 1L8.5 8.5l.94-2.06 2.06-.94-2.06-.94L8.5 2.5l-.94 2.06-2.06.94zm10 10l.94 2.06.94-2.06 2.06-.94-2.06-.94-.94-2.06-.94 2.06-2.06.94z\"/><path d=\"M17.41 7.96l-1.37-1.37c-.4-.4-.92-.59-1.43-.59-.52 0-1.04.2-1.43.59L10.3 9.45l-7.72 7.72c-.78.78-.78 2.05 0 2.83L4 21.41c.39.39.9.59 1.41.59.51 0 1.02-.2 1.41-.59l7.78-7.78 2.81-2.81c.8-.78.8-2.07 0-2.86zM5.41 20L4 18.59l7.72-7.72 1.47 1.35L5.41 20z\"/>\n",
              "  </svg>\n",
              "      </button>\n",
              "      \n",
              "  <style>\n",
              "    .colab-df-container {\n",
              "      display:flex;\n",
              "      flex-wrap:wrap;\n",
              "      gap: 12px;\n",
              "    }\n",
              "\n",
              "    .colab-df-convert {\n",
              "      background-color: #E8F0FE;\n",
              "      border: none;\n",
              "      border-radius: 50%;\n",
              "      cursor: pointer;\n",
              "      display: none;\n",
              "      fill: #1967D2;\n",
              "      height: 32px;\n",
              "      padding: 0 0 0 0;\n",
              "      width: 32px;\n",
              "    }\n",
              "\n",
              "    .colab-df-convert:hover {\n",
              "      background-color: #E2EBFA;\n",
              "      box-shadow: 0px 1px 2px rgba(60, 64, 67, 0.3), 0px 1px 3px 1px rgba(60, 64, 67, 0.15);\n",
              "      fill: #174EA6;\n",
              "    }\n",
              "\n",
              "    [theme=dark] .colab-df-convert {\n",
              "      background-color: #3B4455;\n",
              "      fill: #D2E3FC;\n",
              "    }\n",
              "\n",
              "    [theme=dark] .colab-df-convert:hover {\n",
              "      background-color: #434B5C;\n",
              "      box-shadow: 0px 1px 3px 1px rgba(0, 0, 0, 0.15);\n",
              "      filter: drop-shadow(0px 1px 2px rgba(0, 0, 0, 0.3));\n",
              "      fill: #FFFFFF;\n",
              "    }\n",
              "  </style>\n",
              "\n",
              "      <script>\n",
              "        const buttonEl =\n",
              "          document.querySelector('#df-52112143-8a8b-43e6-b04d-90017e33f6c6 button.colab-df-convert');\n",
              "        buttonEl.style.display =\n",
              "          google.colab.kernel.accessAllowed ? 'block' : 'none';\n",
              "\n",
              "        async function convertToInteractive(key) {\n",
              "          const element = document.querySelector('#df-52112143-8a8b-43e6-b04d-90017e33f6c6');\n",
              "          const dataTable =\n",
              "            await google.colab.kernel.invokeFunction('convertToInteractive',\n",
              "                                                     [key], {});\n",
              "          if (!dataTable) return;\n",
              "\n",
              "          const docLinkHtml = 'Like what you see? Visit the ' +\n",
              "            '<a target=\"_blank\" href=https://colab.research.google.com/notebooks/data_table.ipynb>data table notebook</a>'\n",
              "            + ' to learn more about interactive tables.';\n",
              "          element.innerHTML = '';\n",
              "          dataTable['output_type'] = 'display_data';\n",
              "          await google.colab.output.renderOutput(dataTable, element);\n",
              "          const docLink = document.createElement('div');\n",
              "          docLink.innerHTML = docLinkHtml;\n",
              "          element.appendChild(docLink);\n",
              "        }\n",
              "      </script>\n",
              "    </div>\n",
              "  </div>\n",
              "  "
            ]
          },
          "metadata": {},
          "execution_count": 32
        }
      ]
    },
    {
      "cell_type": "markdown",
      "source": [
        "As seen from above, only one phone number is not valid. But, this row cannot be dropped due to this error. Notice that the student is from Benin Republic, according to research, the NSN length for Benin Republic mobile phone numbers is eight digits and also the country code is +229. Therefore, the +234 should be replaced to +229."
      ],
      "metadata": {
        "id": "u8ZZ3favoT1M"
      }
    },
    {
      "cell_type": "code",
      "source": [
        "df.iloc[55, 6] = df.iloc[55, 6][4:]\n",
        "df.iloc[55, 6] = '+229' + df.iloc[55,6]"
      ],
      "metadata": {
        "id": "PFAq2lXWJdVU"
      },
      "execution_count": 44,
      "outputs": []
    },
    {
      "cell_type": "code",
      "source": [
        "df.iloc[55, 6]"
      ],
      "metadata": {
        "colab": {
          "base_uri": "https://localhost:8080/",
          "height": 35
        },
        "id": "408m3ii4JwjA",
        "outputId": "77896bd1-0868-4e45-f1b2-281b05351c3f"
      },
      "execution_count": 45,
      "outputs": [
        {
          "output_type": "execute_result",
          "data": {
            "text/plain": [
              "'+22990137006'"
            ],
            "application/vnd.google.colaboratory.intrinsic+json": {
              "type": "string"
            }
          },
          "metadata": {},
          "execution_count": 45
        }
      ]
    },
    {
      "cell_type": "markdown",
      "source": [
        "Next, the denomination needs to be appropriately cleaned so that the most frequent denomination can be visualized."
      ],
      "metadata": {
        "id": "GUknwUfBthLA"
      }
    },
    {
      "cell_type": "code",
      "source": [
        "\n",
        "df['Denomination'] = df['Denomination'].str.strip(' ')\n",
        "df['Denomination'] = df['Denomination'].replace({'CAC':'Christ Apostolic Church', 'Reedeem Christian Church of God':'The Redeemed Christian Church of God', 'Anglican Communion':'Anglican', 'mountain of fire and miracles ministries':'MFM', 'Redeemed Christian Church of God':'The Redeemed Christian Church of God', 'Redeem christian church of God':'The Redeemed Christian Church of God', 'The Redeem Christian Church Of God':'The Redeemed Christian Church of God', 'RCCG':'The Redeemed Christian Church of God', 'C.A.C':'Christ Apostolic Church', 'C&s':'C&S', 'The Apostolic church':'TACN','Tacfon':'TACSFON', 'Christ second Coming Gospel assembly osun state':'Christ\\'s Second Coming Gospel Assembly', 'IGEM ccc':'IGEM-CCC', 'Christ apostolic church':'Christ Apostolic Church', 'Apostolic faith church':'Apostolic Faith Church'})\n",
        "df['Denomination'].value_counts()"
      ],
      "metadata": {
        "id": "ShOR4efuhpBT",
        "colab": {
          "base_uri": "https://localhost:8080/"
        },
        "outputId": "223b06f5-fe57-4a4e-ffe7-cc338fe44356"
      },
      "execution_count": 33,
      "outputs": [
        {
          "output_type": "execute_result",
          "data": {
            "text/plain": [
              "Deeper Life Bible Church                       38\n",
              "The Redeemed Christian Church of God            7\n",
              "Christ Apostolic Church                         7\n",
              "TACSFON                                         2\n",
              "Anglican                                        2\n",
              "MFM                                             2\n",
              "TACN                                            2\n",
              "Winners                                         2\n",
              "Apostolic Faith Church                          1\n",
              "C&S                                             1\n",
              "Catholic Church                                 1\n",
              "IGEM-CCC                                        1\n",
              "Christ's Second Coming Gospel Assembly          1\n",
              "Christ Trumpeters Church                        1\n",
              "Christian Faith World Outreach Centre (INC)     1\n",
              "Abundant Grace Ministry Int'l.                  1\n",
              "Jesus christ life gospel church                 1\n",
              "Name: Denomination, dtype: int64"
            ]
          },
          "metadata": {},
          "execution_count": 33
        }
      ]
    },
    {
      "cell_type": "code",
      "source": [
        "sns.set_style('darkgrid')\n",
        "sns.countplot('Denomination', data=df)\n",
        "plt.xticks(rotation=90)\n",
        "plt.show()"
      ],
      "metadata": {
        "id": "a4YnS9tpt1qQ",
        "colab": {
          "base_uri": "https://localhost:8080/",
          "height": 542
        },
        "outputId": "95ad4c0b-eba8-4af6-e224-e9397823fe55"
      },
      "execution_count": 34,
      "outputs": [
        {
          "output_type": "stream",
          "name": "stderr",
          "text": [
            "/usr/local/lib/python3.7/dist-packages/seaborn/_decorators.py:43: FutureWarning: Pass the following variable as a keyword arg: x. From version 0.12, the only valid positional argument will be `data`, and passing other arguments without an explicit keyword will result in an error or misinterpretation.\n",
            "  FutureWarning\n"
          ]
        },
        {
          "output_type": "display_data",
          "data": {
            "text/plain": [
              "<Figure size 432x288 with 1 Axes>"
            ],
            "image/png": "[encoded data removed]"
          },
          "metadata": {}
        }
      ]
    },
    {
      "cell_type": "markdown",
      "source": [
        "The dirty columns are now clean (the columns asking specific questions are not needed for now)."
      ],
      "metadata": {
        "id": "NDJN37_yud5n"
      }
    },
    {
      "cell_type": "markdown",
      "source": [
        "**Exploratory** **Data** **Analysis**"
      ],
      "metadata": {
        "id": "4HVQspE9sIr9"
      }
    },
    {
      "cell_type": "markdown",
      "source": [
        "Now, let's analyze the data. Let's start with students with high jamb scores"
      ],
      "metadata": {
        "id": "yQv6wsfVu6DY"
      }
    },
    {
      "cell_type": "code",
      "source": [
        "df['Jamb Score'].describe()"
      ],
      "metadata": {
        "colab": {
          "base_uri": "https://localhost:8080/"
        },
        "id": "U9JVp8MRy9e1",
        "outputId": "90dd7ccb-630f-4e1f-d93b-f6fc6ba14494"
      },
      "execution_count": 35,
      "outputs": [
        {
          "output_type": "execute_result",
          "data": {
            "text/plain": [
              "count     71.000000\n",
              "mean     230.352113\n",
              "std       30.173829\n",
              "min      184.000000\n",
              "25%      206.500000\n",
              "50%      222.000000\n",
              "75%      257.000000\n",
              "max      294.000000\n",
              "Name: Jamb Score, dtype: float64"
            ]
          },
          "metadata": {},
          "execution_count": 35
        }
      ]
    },
    {
      "cell_type": "markdown",
      "source": [
        "The above series shows that the maximum jamb score in this data is 294, while the minimum is 184. This is expected because the minimum UTME score requirement for FUTA aspirants is 180."
      ],
      "metadata": {
        "id": "CfH699dG41pK"
      }
    },
    {
      "cell_type": "code",
      "source": [
        "df_high_jamb_score = df[df['Jamb Score'] >= 270]\n",
        "df_faculty = df_high_jamb_score.groupby('School/Faculty Applied For')['Jamb Score'].count()\n",
        "display(df_faculty)\n",
        "df_sex = df_high_jamb_score.groupby('Sex')['Jamb Score'].count()\n",
        "df_sex"
      ],
      "metadata": {
        "colab": {
          "base_uri": "https://localhost:8080/",
          "height": 173
        },
        "id": "aW0v26KKh_kF",
        "outputId": "7fd79368-0a34-4c8a-cef1-575761f4c4f8"
      },
      "execution_count": 36,
      "outputs": [
        {
          "output_type": "display_data",
          "data": {
            "text/plain": [
              "School/Faculty Applied For\n",
              "School of Computing (SOC)                                  3\n",
              "School of Engineering and Engineering Technology (SEET)    6\n",
              "School of Sciences (SOS)                                   1\n",
              "Name: Jamb Score, dtype: int64"
            ]
          },
          "metadata": {}
        },
        {
          "output_type": "execute_result",
          "data": {
            "text/plain": [
              "Sex\n",
              "Female    2\n",
              "Male      8\n",
              "Name: Jamb Score, dtype: int64"
            ]
          },
          "metadata": {},
          "execution_count": 36
        }
      ]
    },
    {
      "cell_type": "code",
      "source": [
        "sns.set_style('darkgrid')\n",
        "sns.boxplot('Sex', 'Jamb Score', data=df, palette=['lightblue', 'lightpink'])\n",
        "plt.title('A boxplot showing Jamb score vs Sex')\n",
        "plt.show()\n",
        "plt.figure()\n",
        "sns.countplot('School/Faculty Applied For', hue='Sex', data=df_high_jamb_score, palette='RdBu_r')\n",
        "plt.xticks(rotation=90)\n",
        "plt.ylabel('Number of students with high jamb scores')\n",
        "plt.title('A boxplot showing faculties with the highest jamb score categorized by sex')\n",
        "plt.show()"
      ],
      "metadata": {
        "colab": {
          "base_uri": "https://localhost:8080/",
          "height": 941
        },
        "id": "zdgbXaczpCzu",
        "outputId": "9a7d8b2d-7dba-4564-8c6f-167447e0f6bf"
      },
      "execution_count": 46,
      "outputs": [
        {
          "output_type": "stream",
          "name": "stderr",
          "text": [
            "/usr/local/lib/python3.7/dist-packages/seaborn/_decorators.py:43: FutureWarning: Pass the following variables as keyword args: x, y. From version 0.12, the only valid positional argument will be `data`, and passing other arguments without an explicit keyword will result in an error or misinterpretation.\n",
            "  FutureWarning\n"
          ]
        },
        {
          "output_type": "display_data",
          "data": {
            "text/plain": [
              "<Figure size 432x288 with 1 Axes>"
            ],
            "image/png": "[encoded data removed]"
          },
          "metadata": {}
        },
        {
          "output_type": "stream",
          "name": "stderr",
          "text": [
            "/usr/local/lib/python3.7/dist-packages/seaborn/_decorators.py:43: FutureWarning: Pass the following variable as a keyword arg: x. From version 0.12, the only valid positional argument will be `data`, and passing other arguments without an explicit keyword will result in an error or misinterpretation.\n",
            "  FutureWarning\n"
          ]
        },
        {
          "output_type": "display_data",
          "data": {
            "text/plain": [
              "<Figure size 432x288 with 1 Axes>"
            ],
            "image/png": "[encoded data removed]"
          },
          "metadata": {}
        }
      ]
    },
    {
      "cell_type": "markdown",
      "source": [
        "The outliers in the boxplot for the female students show that two female students had high jamb scores. The two female students can be seen in the second plot. It can also be seen that school of engineering had the highest number of students with high jamb scores. Now, we're going to analyze students with low jamb scores."
      ],
      "metadata": {
        "id": "NuhajIGOvxcz"
      }
    },
    {
      "cell_type": "code",
      "source": [
        "df_low_jamb_score = df[df['Jamb Score'] < 200]\n",
        "df_low_jamb_score"
      ],
      "metadata": {
        "colab": {
          "base_uri": "https://localhost:8080/",
          "height": 1000
        },
        "id": "rSswR3lqxbuV",
        "outputId": "bb1f2a92-e53d-440c-ac1e-192ac713861a"
      },
      "execution_count": 38,
      "outputs": [
        {
          "output_type": "execute_result",
          "data": {
            "text/plain": [
              "             Timestamp                  Email Address  First Name  \\\n",
              "2  2020-10-11 10:25:57      akintundeakinba@gmail.com  Akinbamowo   \n",
              "17 2020-10-30 15:34:06   Olugbayilagbolahan@gmail.com    Gbolahan   \n",
              "18 2020-10-30 15:58:34      taiwodesire2019@gmail.com       Alabe   \n",
              "26 2020-10-30 22:21:29     davidadaramola01@gmail.com       David   \n",
              "27 2020-10-30 22:36:33           mideayo306@gmail.com      Akinbo   \n",
              "38 2020-11-02 09:13:40        adamjeremiah7@gmail.com        Adam   \n",
              "42 2020-11-02 12:57:30  eesuolaoluwatoyin99@gmail.com     Eesuola   \n",
              "46 2020-11-04 11:40:50      Aribabainioluwa@gmail.com     Aribaba   \n",
              "51 2020-11-04 20:00:32        davidbakare87@gmail.com      Bakare   \n",
              "57 2021-01-08 22:17:20     pelumiolorunda35@gmail.com    Olorunda   \n",
              "67 2021-01-13 10:35:06      ogunkandevictor@gmail.com   Ogunkande   \n",
              "68 2021-01-13 10:47:07        Petertomywa72@gmail.com   Ogunmola    \n",
              "69 2021-01-13 16:50:00      Basaumariam0000@gmail.com      Mariam   \n",
              "\n",
              "           Other Names State of Residence     Sex  \\\n",
              "2            Akintunde               Ondo    Male   \n",
              "17          Boluwatife               Ogun    Male   \n",
              "18         Taiwo Grace               Ondo  Female   \n",
              "26          Teminijesu               Ondo    Male   \n",
              "27    Favour oluwakemi              Lagos  Female   \n",
              "38           Jeremiah                Ondo    Male   \n",
              "42  Oluwatoyin Rebecca                Oyo  Female   \n",
              "46            Inioluwa               Osun    Male   \n",
              "51    Boluwatife David                Oyo    Male   \n",
              "57              Pelumi               Ondo  Female   \n",
              "67        Victor segun               Ondo    Male   \n",
              "68              Peter               Lagos    Male   \n",
              "69            Precious               Ondo  Female   \n",
              "\n",
              "   Mobile Number (Preferably WhatsApp)                          Denomination  \\\n",
              "2                       +2347041722776              Deeper Life Bible Church   \n",
              "17                      +2347015535719                               Winners   \n",
              "18                      +2349060883428                               TACSFON   \n",
              "26                      +2348119986724                Apostolic Faith Church   \n",
              "27                      +2348181276953                                  TACN   \n",
              "38                      +2348034299806                       Catholic Church   \n",
              "42                      +2348127552328                              IGEM-CCC   \n",
              "46                      +2347019926928               Christ Apostolic Church   \n",
              "51                      +2349050314178                               TACSFON   \n",
              "57                      +2347015771258                                   MFM   \n",
              "67                      +2348161370282       Jesus christ life gospel church   \n",
              "68                      +2349069732873              Deeper Life Bible Church   \n",
              "69                      +2349031314904  The Redeemed Christian Church of God   \n",
              "\n",
              "                           School/Faculty Applied For  \\\n",
              "2   School of Engineering and Engineering Technolo...   \n",
              "17  School of Engineering and Engineering Technolo...   \n",
              "18          School of Environmental  Technology (SET)   \n",
              "26                          School of Computing (SOC)   \n",
              "27  School of Engineering and Engineering Technolo...   \n",
              "38          School of Environmental  Technology (SET)   \n",
              "42                           School of Sciences (SOS)   \n",
              "46  School of Engineering and Engineering Technolo...   \n",
              "51                           School of Sciences (SOS)   \n",
              "57  School of Engineering and Engineering Technolo...   \n",
              "67      School of Health and Health Technology (SHHT)   \n",
              "68          School of Environmental  Technology (SET)   \n",
              "69                           School of Sciences (SOS)   \n",
              "\n",
              "        Course/Department Applied For  ...  \\\n",
              "2                Software engineering  ...   \n",
              "17  Industrial production engineering  ...   \n",
              "18       Urban and regional planning   ...   \n",
              "26                   Computer science  ...   \n",
              "27                       Architecture  ...   \n",
              "38                 Estate management   ...   \n",
              "42                      Micro biology  ...   \n",
              "46                                CVE  ...   \n",
              "51                            Statics  ...   \n",
              "57                Building technology  ...   \n",
              "67              Biomedical technology  ...   \n",
              "68                      Architecture   ...   \n",
              "69                            Biology  ...   \n",
              "\n",
              "                      Jamb Subject Combination  \\\n",
              "2     English, Mathematics, Chemistry, Physics   \n",
              "17    English, Mathematics, Chemistry, Physics   \n",
              "18    English, Mathematics, Physics, Geography   \n",
              "26    English, Mathematics, Chemistry, Physics   \n",
              "27    English, Mathematics, Chemistry, Physics   \n",
              "38  English, Mathematics, Chemistry, Economics   \n",
              "42        English, Biology, Chemistry, Physics   \n",
              "46    English, Mathematics, Chemistry, Physics   \n",
              "51    English, Mathematics, Chemistry, Physics   \n",
              "57    English, Mathematics, Physics, Economics   \n",
              "67        English, Biology, Chemistry, Physics   \n",
              "68    English, Mathematics, Chemistry, Physics   \n",
              "69        English, Biology, Chemistry, Physics   \n",
              "\n",
              "   Did you register for the upcoming NECO exams scheduled to start October?  \\\n",
              "2                                                  No                         \n",
              "17                                                 No                         \n",
              "18                                                Yes                         \n",
              "26                                                Yes                         \n",
              "27                                                Yes                         \n",
              "38                                                 No                         \n",
              "42                                                 No                         \n",
              "46                                                 No                         \n",
              "51                                                Yes                         \n",
              "57                                                 No                         \n",
              "67                                                 No                         \n",
              "68                                                 No                         \n",
              "69                                                 No                         \n",
              "\n",
              "   Have you completed the online registration for the Post Utme Exam?  \\\n",
              "2                                                 Yes                   \n",
              "17                                                Yes                   \n",
              "18                                                Yes                   \n",
              "26                                                Yes                   \n",
              "27                                                 No                   \n",
              "38                                                Yes                   \n",
              "42                                                Yes                   \n",
              "46                                                Yes                   \n",
              "51                                                Yes                   \n",
              "57                                                Yes                   \n",
              "67                                                Yes                   \n",
              "68                                                Yes                   \n",
              "69                                                Yes                   \n",
              "\n",
              "   What challenge(s) are/were you faced with during the cause of application and registration?  \\\n",
              "2                                        No challenge                                            \n",
              "17                                               None                                            \n",
              "18                                     No challenges                                             \n",
              "26                                               None                                            \n",
              "27                     I haven't done my registration                                            \n",
              "38                                      NO challenge                                             \n",
              "42                   Network issue\\nBut it's fine now                                            \n",
              "46                                       Nothing much                                            \n",
              "51                                      No challenges                                            \n",
              "57                                       No challenge                                            \n",
              "67  Thinking about The combination of the subjects...                                            \n",
              "68                                                 No                                            \n",
              "69                                               None                                            \n",
              "\n",
              "                                 How can we help you?  \\\n",
              "2                                            Tutoring   \n",
              "17                                              None    \n",
              "18                                     To be the best   \n",
              "26                                   To be a futarian   \n",
              "27                                 With my jamb score   \n",
              "38                     Advice on this low jamb score    \n",
              "42  Yeah\\nThe question I have is that\\nThe name on...   \n",
              "46                          All the help u can render   \n",
              "51  My problem is about the awaiting result of thi...   \n",
              "57                 Keep me update about the post utme   \n",
              "67  Is the subjects combination above are correct ...   \n",
              "68      Can I be given admission with that jamb score   \n",
              "69  By giving updates or information that comes up...   \n",
              "\n",
              "   What are your expectations from DLCF FUTA as regards your preparations for the Post Utme Test?  \\\n",
              "2         Helping me with reading and teaching sir/ma                                               \n",
              "17                                              Good                                                \n",
              "18         Am expectations is to have the best grades                                               \n",
              "26                                  Excellent results                                               \n",
              "27  Solving post utme past questions together and ...                                               \n",
              "38                               60 points and above                                                \n",
              "42  I expect this group to enlighten us on how the...                                               \n",
              "46                                        More lesson                                               \n",
              "51          To put me more on the post utme question.                                               \n",
              "57            They should be training me for the exam                                               \n",
              "67  Past questions before you the commencement of ...                                               \n",
              "68         I need possible outcome of past questions                                                \n",
              "69  Giving of past questions,and encouragement,I n...                                               \n",
              "\n",
              "    Year     Month        Day      Time  \n",
              "2   2020   October     Sunday  10-25-57  \n",
              "17  2020   October     Friday  15-34-06  \n",
              "18  2020   October     Friday  15-58-34  \n",
              "26  2020   October     Friday  22-21-29  \n",
              "27  2020   October     Friday  22-36-33  \n",
              "38  2020  November     Monday  09-13-40  \n",
              "42  2020  November     Monday  12-57-30  \n",
              "46  2020  November  Wednesday  11-40-50  \n",
              "51  2020  November  Wednesday  20-00-32  \n",
              "57  2021   January     Friday  22-17-20  \n",
              "67  2021   January  Wednesday  10-35-06  \n",
              "68  2021   January  Wednesday  10-47-07  \n",
              "69  2021   January  Wednesday  16-50-00  \n",
              "\n",
              "[13 rows x 21 columns]"
            ],
            "text/html": [
              "\n",
              "  <div id=\"df-240ec7eb-38b4-47a1-b8b6-94c67d8b8a83\">\n",
              "    <div class=\"colab-df-container\">\n",
              "      <div>\n",
              "<style scoped>\n",
              "    .dataframe tbody tr th:only-of-type {\n",
              "        vertical-align: middle;\n",
              "    }\n",
              "\n",
              "    .dataframe tbody tr th {\n",
              "        vertical-align: top;\n",
              "    }\n",
              "\n",
              "    .dataframe thead th {\n",
              "        text-align: right;\n",
              "    }\n",
              "</style>\n",
              "<table border=\"1\" class=\"dataframe\">\n",
              "  <thead>\n",
              "    <tr style=\"text-align: right;\">\n",
              "      <th></th>\n",
              "      <th>Timestamp</th>\n",
              "      <th>Email Address</th>\n",
              "      <th>First Name</th>\n",
              "      <th>Other Names</th>\n",
              "      <th>State of Residence</th>\n",
              "      <th>Sex</th>\n",
              "      <th>Mobile Number (Preferably WhatsApp)</th>\n",
              "      <th>Denomination</th>\n",
              "      <th>School/Faculty Applied For</th>\n",
              "      <th>Course/Department Applied For</th>\n",
              "      <th>...</th>\n",
              "      <th>Jamb Subject Combination</th>\n",
              "      <th>Did you register for the upcoming NECO exams scheduled to start October?</th>\n",
              "      <th>Have you completed the online registration for the Post Utme Exam?</th>\n",
              "      <th>What challenge(s) are/were you faced with during the cause of application and registration?</th>\n",
              "      <th>How can we help you?</th>\n",
              "      <th>What are your expectations from DLCF FUTA as regards your preparations for the Post Utme Test?</th>\n",
              "      <th>Year</th>\n",
              "      <th>Month</th>\n",
              "      <th>Day</th>\n",
              "      <th>Time</th>\n",
              "    </tr>\n",
              "  </thead>\n",
              "  <tbody>\n",
              "    <tr>\n",
              "      <th>2</th>\n",
              "      <td>2020-10-11 10:25:57</td>\n",
              "      <td>akintundeakinba@gmail.com</td>\n",
              "      <td>Akinbamowo</td>\n",
              "      <td>Akintunde</td>\n",
              "      <td>Ondo</td>\n",
              "      <td>Male</td>\n",
              "      <td>+2347041722776</td>\n",
              "      <td>Deeper Life Bible Church</td>\n",
              "      <td>School of Engineering and Engineering Technolo...</td>\n",
              "      <td>Software engineering</td>\n",
              "      <td>...</td>\n",
              "      <td>English, Mathematics, Chemistry, Physics</td>\n",
              "      <td>No</td>\n",
              "      <td>Yes</td>\n",
              "      <td>No challenge</td>\n",
              "      <td>Tutoring</td>\n",
              "      <td>Helping me with reading and teaching sir/ma</td>\n",
              "      <td>2020</td>\n",
              "      <td>October</td>\n",
              "      <td>Sunday</td>\n",
              "      <td>10-25-57</td>\n",
              "    </tr>\n",
              "    <tr>\n",
              "      <th>17</th>\n",
              "      <td>2020-10-30 15:34:06</td>\n",
              "      <td>Olugbayilagbolahan@gmail.com</td>\n",
              "      <td>Gbolahan</td>\n",
              "      <td>Boluwatife</td>\n",
              "      <td>Ogun</td>\n",
              "      <td>Male</td>\n",
              "      <td>+2347015535719</td>\n",
              "      <td>Winners</td>\n",
              "      <td>School of Engineering and Engineering Technolo...</td>\n",
              "      <td>Industrial production engineering</td>\n",
              "      <td>...</td>\n",
              "      <td>English, Mathematics, Chemistry, Physics</td>\n",
              "      <td>No</td>\n",
              "      <td>Yes</td>\n",
              "      <td>None</td>\n",
              "      <td>None</td>\n",
              "      <td>Good</td>\n",
              "      <td>2020</td>\n",
              "      <td>October</td>\n",
              "      <td>Friday</td>\n",
              "      <td>15-34-06</td>\n",
              "    </tr>\n",
              "    <tr>\n",
              "      <th>18</th>\n",
              "      <td>2020-10-30 15:58:34</td>\n",
              "      <td>taiwodesire2019@gmail.com</td>\n",
              "      <td>Alabe</td>\n",
              "      <td>Taiwo Grace</td>\n",
              "      <td>Ondo</td>\n",
              "      <td>Female</td>\n",
              "      <td>+2349060883428</td>\n",
              "      <td>TACSFON</td>\n",
              "      <td>School of Environmental  Technology (SET)</td>\n",
              "      <td>Urban and regional planning</td>\n",
              "      <td>...</td>\n",
              "      <td>English, Mathematics, Physics, Geography</td>\n",
              "      <td>Yes</td>\n",
              "      <td>Yes</td>\n",
              "      <td>No challenges</td>\n",
              "      <td>To be the best</td>\n",
              "      <td>Am expectations is to have the best grades</td>\n",
              "      <td>2020</td>\n",
              "      <td>October</td>\n",
              "      <td>Friday</td>\n",
              "      <td>15-58-34</td>\n",
              "    </tr>\n",
              "    <tr>\n",
              "      <th>26</th>\n",
              "      <td>2020-10-30 22:21:29</td>\n",
              "      <td>davidadaramola01@gmail.com</td>\n",
              "      <td>David</td>\n",
              "      <td>Teminijesu</td>\n",
              "      <td>Ondo</td>\n",
              "      <td>Male</td>\n",
              "      <td>+2348119986724</td>\n",
              "      <td>Apostolic Faith Church</td>\n",
              "      <td>School of Computing (SOC)</td>\n",
              "      <td>Computer science</td>\n",
              "      <td>...</td>\n",
              "      <td>English, Mathematics, Chemistry, Physics</td>\n",
              "      <td>Yes</td>\n",
              "      <td>Yes</td>\n",
              "      <td>None</td>\n",
              "      <td>To be a futarian</td>\n",
              "      <td>Excellent results</td>\n",
              "      <td>2020</td>\n",
              "      <td>October</td>\n",
              "      <td>Friday</td>\n",
              "      <td>22-21-29</td>\n",
              "    </tr>\n",
              "    <tr>\n",
              "      <th>27</th>\n",
              "      <td>2020-10-30 22:36:33</td>\n",
              "      <td>mideayo306@gmail.com</td>\n",
              "      <td>Akinbo</td>\n",
              "      <td>Favour oluwakemi</td>\n",
              "      <td>Lagos</td>\n",
              "      <td>Female</td>\n",
              "      <td>+2348181276953</td>\n",
              "      <td>TACN</td>\n",
              "      <td>School of Engineering and Engineering Technolo...</td>\n",
              "      <td>Architecture</td>\n",
              "      <td>...</td>\n",
              "      <td>English, Mathematics, Chemistry, Physics</td>\n",
              "      <td>Yes</td>\n",
              "      <td>No</td>\n",
              "      <td>I haven't done my registration</td>\n",
              "      <td>With my jamb score</td>\n",
              "      <td>Solving post utme past questions together and ...</td>\n",
              "      <td>2020</td>\n",
              "      <td>October</td>\n",
              "      <td>Friday</td>\n",
              "      <td>22-36-33</td>\n",
              "    </tr>\n",
              "    <tr>\n",
              "      <th>38</th>\n",
              "      <td>2020-11-02 09:13:40</td>\n",
              "      <td>adamjeremiah7@gmail.com</td>\n",
              "      <td>Adam</td>\n",
              "      <td>Jeremiah</td>\n",
              "      <td>Ondo</td>\n",
              "      <td>Male</td>\n",
              "      <td>+2348034299806</td>\n",
              "      <td>Catholic Church</td>\n",
              "      <td>School of Environmental  Technology (SET)</td>\n",
              "      <td>Estate management</td>\n",
              "      <td>...</td>\n",
              "      <td>English, Mathematics, Chemistry, Economics</td>\n",
              "      <td>No</td>\n",
              "      <td>Yes</td>\n",
              "      <td>NO challenge</td>\n",
              "      <td>Advice on this low jamb score</td>\n",
              "      <td>60 points and above</td>\n",
              "      <td>2020</td>\n",
              "      <td>November</td>\n",
              "      <td>Monday</td>\n",
              "      <td>09-13-40</td>\n",
              "    </tr>\n",
              "    <tr>\n",
              "      <th>42</th>\n",
              "      <td>2020-11-02 12:57:30</td>\n",
              "      <td>eesuolaoluwatoyin99@gmail.com</td>\n",
              "      <td>Eesuola</td>\n",
              "      <td>Oluwatoyin Rebecca</td>\n",
              "      <td>Oyo</td>\n",
              "      <td>Female</td>\n",
              "      <td>+2348127552328</td>\n",
              "      <td>IGEM-CCC</td>\n",
              "      <td>School of Sciences (SOS)</td>\n",
              "      <td>Micro biology</td>\n",
              "      <td>...</td>\n",
              "      <td>English, Biology, Chemistry, Physics</td>\n",
              "      <td>No</td>\n",
              "      <td>Yes</td>\n",
              "      <td>Network issue\\nBut it's fine now</td>\n",
              "      <td>Yeah\\nThe question I have is that\\nThe name on...</td>\n",
              "      <td>I expect this group to enlighten us on how the...</td>\n",
              "      <td>2020</td>\n",
              "      <td>November</td>\n",
              "      <td>Monday</td>\n",
              "      <td>12-57-30</td>\n",
              "    </tr>\n",
              "    <tr>\n",
              "      <th>46</th>\n",
              "      <td>2020-11-04 11:40:50</td>\n",
              "      <td>Aribabainioluwa@gmail.com</td>\n",
              "      <td>Aribaba</td>\n",
              "      <td>Inioluwa</td>\n",
              "      <td>Osun</td>\n",
              "      <td>Male</td>\n",
              "      <td>+2347019926928</td>\n",
              "      <td>Christ Apostolic Church</td>\n",
              "      <td>School of Engineering and Engineering Technolo...</td>\n",
              "      <td>CVE</td>\n",
              "      <td>...</td>\n",
              "      <td>English, Mathematics, Chemistry, Physics</td>\n",
              "      <td>No</td>\n",
              "      <td>Yes</td>\n",
              "      <td>Nothing much</td>\n",
              "      <td>All the help u can render</td>\n",
              "      <td>More lesson</td>\n",
              "      <td>2020</td>\n",
              "      <td>November</td>\n",
              "      <td>Wednesday</td>\n",
              "      <td>11-40-50</td>\n",
              "    </tr>\n",
              "    <tr>\n",
              "      <th>51</th>\n",
              "      <td>2020-11-04 20:00:32</td>\n",
              "      <td>davidbakare87@gmail.com</td>\n",
              "      <td>Bakare</td>\n",
              "      <td>Boluwatife David</td>\n",
              "      <td>Oyo</td>\n",
              "      <td>Male</td>\n",
              "      <td>+2349050314178</td>\n",
              "      <td>TACSFON</td>\n",
              "      <td>School of Sciences (SOS)</td>\n",
              "      <td>Statics</td>\n",
              "      <td>...</td>\n",
              "      <td>English, Mathematics, Chemistry, Physics</td>\n",
              "      <td>Yes</td>\n",
              "      <td>Yes</td>\n",
              "      <td>No challenges</td>\n",
              "      <td>My problem is about the awaiting result of thi...</td>\n",
              "      <td>To put me more on the post utme question.</td>\n",
              "      <td>2020</td>\n",
              "      <td>November</td>\n",
              "      <td>Wednesday</td>\n",
              "      <td>20-00-32</td>\n",
              "    </tr>\n",
              "    <tr>\n",
              "      <th>57</th>\n",
              "      <td>2021-01-08 22:17:20</td>\n",
              "      <td>pelumiolorunda35@gmail.com</td>\n",
              "      <td>Olorunda</td>\n",
              "      <td>Pelumi</td>\n",
              "      <td>Ondo</td>\n",
              "      <td>Female</td>\n",
              "      <td>+2347015771258</td>\n",
              "      <td>MFM</td>\n",
              "      <td>School of Engineering and Engineering Technolo...</td>\n",
              "      <td>Building technology</td>\n",
              "      <td>...</td>\n",
              "      <td>English, Mathematics, Physics, Economics</td>\n",
              "      <td>No</td>\n",
              "      <td>Yes</td>\n",
              "      <td>No challenge</td>\n",
              "      <td>Keep me update about the post utme</td>\n",
              "      <td>They should be training me for the exam</td>\n",
              "      <td>2021</td>\n",
              "      <td>January</td>\n",
              "      <td>Friday</td>\n",
              "      <td>22-17-20</td>\n",
              "    </tr>\n",
              "    <tr>\n",
              "      <th>67</th>\n",
              "      <td>2021-01-13 10:35:06</td>\n",
              "      <td>ogunkandevictor@gmail.com</td>\n",
              "      <td>Ogunkande</td>\n",
              "      <td>Victor segun</td>\n",
              "      <td>Ondo</td>\n",
              "      <td>Male</td>\n",
              "      <td>+2348161370282</td>\n",
              "      <td>Jesus christ life gospel church</td>\n",
              "      <td>School of Health and Health Technology (SHHT)</td>\n",
              "      <td>Biomedical technology</td>\n",
              "      <td>...</td>\n",
              "      <td>English, Biology, Chemistry, Physics</td>\n",
              "      <td>No</td>\n",
              "      <td>Yes</td>\n",
              "      <td>Thinking about The combination of the subjects...</td>\n",
              "      <td>Is the subjects combination above are correct ...</td>\n",
              "      <td>Past questions before you the commencement of ...</td>\n",
              "      <td>2021</td>\n",
              "      <td>January</td>\n",
              "      <td>Wednesday</td>\n",
              "      <td>10-35-06</td>\n",
              "    </tr>\n",
              "    <tr>\n",
              "      <th>68</th>\n",
              "      <td>2021-01-13 10:47:07</td>\n",
              "      <td>Petertomywa72@gmail.com</td>\n",
              "      <td>Ogunmola</td>\n",
              "      <td>Peter</td>\n",
              "      <td>Lagos</td>\n",
              "      <td>Male</td>\n",
              "      <td>+2349069732873</td>\n",
              "      <td>Deeper Life Bible Church</td>\n",
              "      <td>School of Environmental  Technology (SET)</td>\n",
              "      <td>Architecture</td>\n",
              "      <td>...</td>\n",
              "      <td>English, Mathematics, Chemistry, Physics</td>\n",
              "      <td>No</td>\n",
              "      <td>Yes</td>\n",
              "      <td>No</td>\n",
              "      <td>Can I be given admission with that jamb score</td>\n",
              "      <td>I need possible outcome of past questions</td>\n",
              "      <td>2021</td>\n",
              "      <td>January</td>\n",
              "      <td>Wednesday</td>\n",
              "      <td>10-47-07</td>\n",
              "    </tr>\n",
              "    <tr>\n",
              "      <th>69</th>\n",
              "      <td>2021-01-13 16:50:00</td>\n",
              "      <td>Basaumariam0000@gmail.com</td>\n",
              "      <td>Mariam</td>\n",
              "      <td>Precious</td>\n",
              "      <td>Ondo</td>\n",
              "      <td>Female</td>\n",
              "      <td>+2349031314904</td>\n",
              "      <td>The Redeemed Christian Church of God</td>\n",
              "      <td>School of Sciences (SOS)</td>\n",
              "      <td>Biology</td>\n",
              "      <td>...</td>\n",
              "      <td>English, Biology, Chemistry, Physics</td>\n",
              "      <td>No</td>\n",
              "      <td>Yes</td>\n",
              "      <td>None</td>\n",
              "      <td>By giving updates or information that comes up...</td>\n",
              "      <td>Giving of past questions,and encouragement,I n...</td>\n",
              "      <td>2021</td>\n",
              "      <td>January</td>\n",
              "      <td>Wednesday</td>\n",
              "      <td>16-50-00</td>\n",
              "    </tr>\n",
              "  </tbody>\n",
              "</table>\n",
              "<p>13 rows × 21 columns</p>\n",
              "</div>\n",
              "      <button class=\"colab-df-convert\" onclick=\"convertToInteractive('df-240ec7eb-38b4-47a1-b8b6-94c67d8b8a83')\"\n",
              "              title=\"Convert this dataframe to an interactive table.\"\n",
              "              style=\"display:none;\">\n",
              "        \n",
              "  <svg xmlns=\"http://www.w3.org/2000/svg\" height=\"24px\"viewBox=\"0 0 24 24\"\n",
              "       width=\"24px\">\n",
              "    <path d=\"M0 0h24v24H0V0z\" fill=\"none\"/>\n",
              "    <path d=\"M18.56 5.44l.94 2.06.94-2.06 2.06-.94-2.06-.94-.94-2.06-.94 2.06-2.06.94zm-11 1L8.5 8.5l.94-2.06 2.06-.94-2.06-.94L8.5 2.5l-.94 2.06-2.06.94zm10 10l.94 2.06.94-2.06 2.06-.94-2.06-.94-.94-2.06-.94 2.06-2.06.94z\"/><path d=\"M17.41 7.96l-1.37-1.37c-.4-.4-.92-.59-1.43-.59-.52 0-1.04.2-1.43.59L10.3 9.45l-7.72 7.72c-.78.78-.78 2.05 0 2.83L4 21.41c.39.39.9.59 1.41.59.51 0 1.02-.2 1.41-.59l7.78-7.78 2.81-2.81c.8-.78.8-2.07 0-2.86zM5.41 20L4 18.59l7.72-7.72 1.47 1.35L5.41 20z\"/>\n",
              "  </svg>\n",
              "      </button>\n",
              "      \n",
              "  <style>\n",
              "    .colab-df-container {\n",
              "      display:flex;\n",
              "      flex-wrap:wrap;\n",
              "      gap: 12px;\n",
              "    }\n",
              "\n",
              "    .colab-df-convert {\n",
              "      background-color: #E8F0FE;\n",
              "      border: none;\n",
              "      border-radius: 50%;\n",
              "      cursor: pointer;\n",
              "      display: none;\n",
              "      fill: #1967D2;\n",
              "      height: 32px;\n",
              "      padding: 0 0 0 0;\n",
              "      width: 32px;\n",
              "    }\n",
              "\n",
              "    .colab-df-convert:hover {\n",
              "      background-color: #E2EBFA;\n",
              "      box-shadow: 0px 1px 2px rgba(60, 64, 67, 0.3), 0px 1px 3px 1px rgba(60, 64, 67, 0.15);\n",
              "      fill: #174EA6;\n",
              "    }\n",
              "\n",
              "    [theme=dark] .colab-df-convert {\n",
              "      background-color: #3B4455;\n",
              "      fill: #D2E3FC;\n",
              "    }\n",
              "\n",
              "    [theme=dark] .colab-df-convert:hover {\n",
              "      background-color: #434B5C;\n",
              "      box-shadow: 0px 1px 3px 1px rgba(0, 0, 0, 0.15);\n",
              "      filter: drop-shadow(0px 1px 2px rgba(0, 0, 0, 0.3));\n",
              "      fill: #FFFFFF;\n",
              "    }\n",
              "  </style>\n",
              "\n",
              "      <script>\n",
              "        const buttonEl =\n",
              "          document.querySelector('#df-240ec7eb-38b4-47a1-b8b6-94c67d8b8a83 button.colab-df-convert');\n",
              "        buttonEl.style.display =\n",
              "          google.colab.kernel.accessAllowed ? 'block' : 'none';\n",
              "\n",
              "        async function convertToInteractive(key) {\n",
              "          const element = document.querySelector('#df-240ec7eb-38b4-47a1-b8b6-94c67d8b8a83');\n",
              "          const dataTable =\n",
              "            await google.colab.kernel.invokeFunction('convertToInteractive',\n",
              "                                                     [key], {});\n",
              "          if (!dataTable) return;\n",
              "\n",
              "          const docLinkHtml = 'Like what you see? Visit the ' +\n",
              "            '<a target=\"_blank\" href=https://colab.research.google.com/notebooks/data_table.ipynb>data table notebook</a>'\n",
              "            + ' to learn more about interactive tables.';\n",
              "          element.innerHTML = '';\n",
              "          dataTable['output_type'] = 'display_data';\n",
              "          await google.colab.output.renderOutput(dataTable, element);\n",
              "          const docLink = document.createElement('div');\n",
              "          docLink.innerHTML = docLinkHtml;\n",
              "          element.appendChild(docLink);\n",
              "        }\n",
              "      </script>\n",
              "    </div>\n",
              "  </div>\n",
              "  "
            ]
          },
          "metadata": {},
          "execution_count": 38
        }
      ]
    },
    {
      "cell_type": "code",
      "source": [
        "sns.set_style('darkgrid')\n",
        "sns.countplot('School/Faculty Applied For', data=df, color='steelblue')\n",
        "plt.title('Faculty aplied for vs Number of Students')\n",
        "plt.ylabel('Number of Students')\n",
        "plt.xticks(rotation=90)\n",
        "plt.show()"
      ],
      "metadata": {
        "colab": {
          "base_uri": "https://localhost:8080/",
          "height": 629
        },
        "id": "QqdRNHVNyhlv",
        "outputId": "9dba23bd-b32a-4c3f-de06-c9d50e4cfe9c"
      },
      "execution_count": 39,
      "outputs": [
        {
          "output_type": "stream",
          "name": "stderr",
          "text": [
            "/usr/local/lib/python3.7/dist-packages/seaborn/_decorators.py:43: FutureWarning: Pass the following variable as a keyword arg: x. From version 0.12, the only valid positional argument will be `data`, and passing other arguments without an explicit keyword will result in an error or misinterpretation.\n",
            "  FutureWarning\n"
          ]
        },
        {
          "output_type": "display_data",
          "data": {
            "text/plain": [
              "<Figure size 432x288 with 1 Axes>"
            ],
            "image/png": "[encoded data removed]"
          },
          "metadata": {}
        }
      ]
    },
    {
      "cell_type": "code",
      "source": [
        "sns.set_style('darkgrid')\n",
        "sns.countplot('School/Faculty Applied For', hue='Sex', data=df_low_jamb_score, palette=['steelblue','lightpink'])\n",
        "plt.xticks(rotation=90)\n",
        "plt.ylabel('Number of students with low jamb scores')\n",
        "plt.show()"
      ],
      "metadata": {
        "colab": {
          "base_uri": "https://localhost:8080/",
          "height": 613
        },
        "id": "t-ZK2K8nx37u",
        "outputId": "97293b32-f77a-4db8-d385-040ba6471a98"
      },
      "execution_count": 47,
      "outputs": [
        {
          "output_type": "stream",
          "name": "stderr",
          "text": [
            "/usr/local/lib/python3.7/dist-packages/seaborn/_decorators.py:43: FutureWarning: Pass the following variable as a keyword arg: x. From version 0.12, the only valid positional argument will be `data`, and passing other arguments without an explicit keyword will result in an error or misinterpretation.\n",
            "  FutureWarning\n"
          ]
        },
        {
          "output_type": "display_data",
          "data": {
            "text/plain": [
              "<Figure size 432x288 with 1 Axes>"
            ],
            "image/png": "[encoded data removed]"
          },
          "metadata": {}
        }
      ]
    },
    {
      "cell_type": "markdown",
      "source": [
        "From the above count plot, we can see that school of engineering also has the highest number of students with low jamb scores. Therefore jamb score is not determined by the faculty applied for. It also does not depend on sex as seen with the two female students that had high jamb scores. Let's now check if denomination affects jamb score"
      ],
      "metadata": {
        "id": "ESl6PEdFxdoc"
      }
    },
    {
      "cell_type": "code",
      "source": [
        "sns.catplot('Sex', kind='count', col='Denomination', col_wrap=2, data=df_high_jamb_score, palette='RdBu_r' )\n",
        "plt.show()"
      ],
      "metadata": {
        "colab": {
          "base_uri": "https://localhost:8080/",
          "height": 784
        },
        "id": "3V-PVWQOyY6o",
        "outputId": "20802158-88f0-45ca-fc0c-66c84354b982"
      },
      "execution_count": 41,
      "outputs": [
        {
          "output_type": "stream",
          "name": "stderr",
          "text": [
            "/usr/local/lib/python3.7/dist-packages/seaborn/_decorators.py:43: FutureWarning: Pass the following variable as a keyword arg: x. From version 0.12, the only valid positional argument will be `data`, and passing other arguments without an explicit keyword will result in an error or misinterpretation.\n",
            "  FutureWarning\n"
          ]
        },
        {
          "output_type": "display_data",
          "data": {
            "text/plain": [
              "<Figure size 720x720 with 4 Axes>"
            ],
            "image/png": "[encoded data removed]"
          },
          "metadata": {}
        }
      ]
    },
    {
      "cell_type": "code",
      "source": [
        "sns.catplot('Sex', kind='count', col='Denomination', col_wrap=2, data=df_low_jamb_score, palette='RdBu_r')\n",
        "plt.xlabel('Sex')\n",
        "plt.show()"
      ],
      "metadata": {
        "colab": {
          "base_uri": "https://localhost:8080/",
          "height": 1000
        },
        "id": "pd_nLYS206A6",
        "outputId": "9c74f941-dc30-4796-b919-5b3dd4f08b9d"
      },
      "execution_count": 42,
      "outputs": [
        {
          "output_type": "stream",
          "name": "stderr",
          "text": [
            "/usr/local/lib/python3.7/dist-packages/seaborn/_decorators.py:43: FutureWarning: Pass the following variable as a keyword arg: x. From version 0.12, the only valid positional argument will be `data`, and passing other arguments without an explicit keyword will result in an error or misinterpretation.\n",
            "  FutureWarning\n"
          ]
        },
        {
          "output_type": "display_data",
          "data": {
            "text/plain": [
              "<Figure size 720x2160 with 11 Axes>"
            ],
            "image/png": "[encoded data removed]"
          },
          "metadata": {}
        }
      ]
    },
    {
      "cell_type": "markdown",
      "source": [
        "As observed from the above plots, DLBC has the highest number of students with high and low jamb scores. Since, DLBC is the most frequent denomination, this can not be least expected. Therefore, Jamb score does not depend on denomination."
      ],
      "metadata": {
        "id": "pC2e2IEK2Vj_"
      }
    },
    {
      "cell_type": "markdown",
      "source": [
        "**Conclusion** **derived** **from** **the** **data**"
      ],
      "metadata": {
        "id": "xWjnF5-x0Y9D"
      }
    },
    {
      "cell_type": "markdown",
      "source": [
        "\n",
        "\n",
        "*   It is generally known that engineering students are very smart and should have outstanding utme scores. Though the data shows that students that applied for engineering courses had high jamb scores but it also shows that some students that applied for engineering courses had low jamb scores. Therefore, a student's jamb score is not really determined by the faculty he/she applied for.\n",
        "*   Also, a student's jamb score is not determined by sex. Being a male student doesn't guarantee you to have an excellent jamb score. Though the data shows that the proportion of male students that passed is higher that that of female students, it is observed that some female students had outsanding jamb scores.\n",
        "\n",
        "---\n",
        "\n",
        "\n",
        "To cap it all, Jamb score is not determined by any external factor. It is only determined by the student's intellectual capability.\n",
        "\n",
        "---\n",
        "\n",
        "\n",
        "\n"
      ],
      "metadata": {
        "id": "XDu21-db0jxs"
      }
    }
  ],
  "metadata": {
    "colab": {
      "name": "first.ipynb",
      "provenance": [],
      "collapsed_sections": []
    },
    "kernelspec": {
      "display_name": "Python 3",
      "name": "python3"
    },
    "language_info": {
      "name": "python"
    }
  },
  "nbformat": 4,
  "nbformat_minor": 0
}